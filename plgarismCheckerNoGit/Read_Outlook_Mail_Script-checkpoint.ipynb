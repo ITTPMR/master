{
 "cells": [
  {
   "cell_type": "code",
   "execution_count": 1,
   "id": "0a22a00b",
   "metadata": {},
   "outputs": [
    {
     "name": "stdout",
     "output_type": "stream",
     "text": [
      "Requirement already satisfied: pywin32 in c:\\users\\p.m.riyaz\\appdata\\local\\programs\\python\\python310\\lib\\site-packages (302)\n",
      "Note: you may need to restart the kernel to use updated packages.\n"
     ]
    },
    {
     "name": "stderr",
     "output_type": "stream",
     "text": [
      "WARNING: You are using pip version 21.3.1; however, version 22.0.4 is available.\n",
      "You should consider upgrading via the 'C:\\Users\\p.m.riyaz\\AppData\\Local\\Programs\\Python\\Python310\\python.exe -m pip install --upgrade pip' command.\n"
     ]
    }
   ],
   "source": [
    "# Packages\n",
    "\n",
    "pip install pywin32\n",
    "pip install lxml\n",
    "pip install html5lib\n",
    "pip install beautifulsoup4\n",
    "pip install xlsxwriter \n"
   ]
  },
  {
   "cell_type": "code",
   "execution_count": 102,
   "id": "0826e385",
   "metadata": {},
   "outputs": [],
   "source": [
    "import csv"
   ]
  },
  {
   "cell_type": "code",
   "execution_count": 106,
   "id": "3ff3f3b0",
   "metadata": {},
   "outputs": [
    {
     "ename": "com_error",
     "evalue": "(-2147467262, 'No such interface supported', None, None)",
     "output_type": "error",
     "traceback": [
      "\u001b[1;31m---------------------------------------------------------------------------\u001b[0m",
      "\u001b[1;31mcom_error\u001b[0m                                 Traceback (most recent call last)",
      "\u001b[1;32mC:\\Users\\PMA2B6~1.RIY\\AppData\\Local\\Temp/ipykernel_9920/2351417336.py\u001b[0m in \u001b[0;36m<module>\u001b[1;34m\u001b[0m\n\u001b[0;32m     18\u001b[0m \u001b[1;33m\u001b[0m\u001b[0m\n\u001b[0;32m     19\u001b[0m \u001b[1;32mfor\u001b[0m \u001b[0mmessage\u001b[0m \u001b[1;32min\u001b[0m \u001b[0mmessages\u001b[0m\u001b[1;33m:\u001b[0m\u001b[1;33m\u001b[0m\u001b[1;33m\u001b[0m\u001b[0m\n\u001b[1;32m---> 20\u001b[1;33m     \u001b[1;32mif\u001b[0m \u001b[0mmessage\u001b[0m\u001b[1;33m.\u001b[0m\u001b[0mReceivedTime\u001b[0m\u001b[1;33m.\u001b[0m\u001b[0mdate\u001b[0m\u001b[1;33m(\u001b[0m\u001b[1;33m)\u001b[0m \u001b[1;33m>=\u001b[0m \u001b[0myesterday_date\u001b[0m\u001b[1;33m:\u001b[0m\u001b[1;33m\u001b[0m\u001b[1;33m\u001b[0m\u001b[0m\n\u001b[0m\u001b[0;32m     21\u001b[0m         \u001b[0mprint\u001b[0m\u001b[1;33m(\u001b[0m\u001b[0mmessage\u001b[0m\u001b[1;33m.\u001b[0m\u001b[0mReceivedTime\u001b[0m\u001b[1;33m.\u001b[0m\u001b[0mdate\u001b[0m\u001b[1;33m(\u001b[0m\u001b[1;33m)\u001b[0m\u001b[1;33m)\u001b[0m\u001b[1;33m\u001b[0m\u001b[1;33m\u001b[0m\u001b[0m\n\u001b[0;32m     22\u001b[0m         \u001b[0mprint\u001b[0m\u001b[1;33m(\u001b[0m\u001b[0mmessage\u001b[0m\u001b[1;33m.\u001b[0m\u001b[0mSubject\u001b[0m\u001b[1;33m)\u001b[0m\u001b[1;33m\u001b[0m\u001b[1;33m\u001b[0m\u001b[0m\n",
      "\u001b[1;32m~\\AppData\\Local\\Programs\\Python\\Python310\\lib\\site-packages\\win32com\\client\\__init__.py\u001b[0m in \u001b[0;36m__getattr__\u001b[1;34m(self, attr)\u001b[0m\n\u001b[0;32m    581\u001b[0m                 \u001b[1;34m\"'%s' object has no attribute '%s'\"\u001b[0m \u001b[1;33m%\u001b[0m \u001b[1;33m(\u001b[0m\u001b[0mrepr\u001b[0m\u001b[1;33m(\u001b[0m\u001b[0mself\u001b[0m\u001b[1;33m)\u001b[0m\u001b[1;33m,\u001b[0m \u001b[0mattr\u001b[0m\u001b[1;33m)\u001b[0m\u001b[1;33m\u001b[0m\u001b[1;33m\u001b[0m\u001b[0m\n\u001b[0;32m    582\u001b[0m             )\n\u001b[1;32m--> 583\u001b[1;33m         \u001b[1;32mreturn\u001b[0m \u001b[0mself\u001b[0m\u001b[1;33m.\u001b[0m\u001b[0m_ApplyTypes_\u001b[0m\u001b[1;33m(\u001b[0m\u001b[1;33m*\u001b[0m\u001b[0margs\u001b[0m\u001b[1;33m)\u001b[0m\u001b[1;33m\u001b[0m\u001b[1;33m\u001b[0m\u001b[0m\n\u001b[0m\u001b[0;32m    584\u001b[0m \u001b[1;33m\u001b[0m\u001b[0m\n\u001b[0;32m    585\u001b[0m     \u001b[1;32mdef\u001b[0m \u001b[0m__setattr__\u001b[0m\u001b[1;33m(\u001b[0m\u001b[0mself\u001b[0m\u001b[1;33m,\u001b[0m \u001b[0mattr\u001b[0m\u001b[1;33m,\u001b[0m \u001b[0mvalue\u001b[0m\u001b[1;33m)\u001b[0m\u001b[1;33m:\u001b[0m\u001b[1;33m\u001b[0m\u001b[1;33m\u001b[0m\u001b[0m\n",
      "\u001b[1;32m~\\AppData\\Local\\Programs\\Python\\Python310\\lib\\site-packages\\win32com\\client\\__init__.py\u001b[0m in \u001b[0;36m_ApplyTypes_\u001b[1;34m(self, dispid, wFlags, retType, argTypes, user, resultCLSID, *args)\u001b[0m\n\u001b[0;32m    570\u001b[0m     \u001b[1;32mdef\u001b[0m \u001b[0m_ApplyTypes_\u001b[0m\u001b[1;33m(\u001b[0m\u001b[0mself\u001b[0m\u001b[1;33m,\u001b[0m \u001b[0mdispid\u001b[0m\u001b[1;33m,\u001b[0m \u001b[0mwFlags\u001b[0m\u001b[1;33m,\u001b[0m \u001b[0mretType\u001b[0m\u001b[1;33m,\u001b[0m \u001b[0margTypes\u001b[0m\u001b[1;33m,\u001b[0m \u001b[0muser\u001b[0m\u001b[1;33m,\u001b[0m \u001b[0mresultCLSID\u001b[0m\u001b[1;33m,\u001b[0m \u001b[1;33m*\u001b[0m\u001b[0margs\u001b[0m\u001b[1;33m)\u001b[0m\u001b[1;33m:\u001b[0m\u001b[1;33m\u001b[0m\u001b[1;33m\u001b[0m\u001b[0m\n\u001b[0;32m    571\u001b[0m         return self._get_good_object_(\n\u001b[1;32m--> 572\u001b[1;33m             \u001b[0mself\u001b[0m\u001b[1;33m.\u001b[0m\u001b[0m_oleobj_\u001b[0m\u001b[1;33m.\u001b[0m\u001b[0mInvokeTypes\u001b[0m\u001b[1;33m(\u001b[0m\u001b[0mdispid\u001b[0m\u001b[1;33m,\u001b[0m \u001b[1;36m0\u001b[0m\u001b[1;33m,\u001b[0m \u001b[0mwFlags\u001b[0m\u001b[1;33m,\u001b[0m \u001b[0mretType\u001b[0m\u001b[1;33m,\u001b[0m \u001b[0margTypes\u001b[0m\u001b[1;33m,\u001b[0m \u001b[1;33m*\u001b[0m\u001b[0margs\u001b[0m\u001b[1;33m)\u001b[0m\u001b[1;33m,\u001b[0m\u001b[1;33m\u001b[0m\u001b[1;33m\u001b[0m\u001b[0m\n\u001b[0m\u001b[0;32m    573\u001b[0m             \u001b[0muser\u001b[0m\u001b[1;33m,\u001b[0m\u001b[1;33m\u001b[0m\u001b[1;33m\u001b[0m\u001b[0m\n\u001b[0;32m    574\u001b[0m             \u001b[0mresultCLSID\u001b[0m\u001b[1;33m,\u001b[0m\u001b[1;33m\u001b[0m\u001b[1;33m\u001b[0m\u001b[0m\n",
      "\u001b[1;31mcom_error\u001b[0m: (-2147467262, 'No such interface supported', None, None)"
     ]
    }
   ],
   "source": [
    "# Read normal outlook inbox messages\n",
    "\n",
    "import win32com.client\n",
    "import datetime as dt\n",
    "import csv\n",
    "\n",
    "# Outlook\n",
    "outlook = win32com.client.Dispatch(\"Outlook.Application\").GetNamespace(\"MAPI\")\n",
    "\n",
    "inbox = outlook.GetDefaultFolder(6)\n",
    "messages = inbox.Items\n",
    "DL_NAME = 'dummy_group'\n",
    "HEADER = ['Subject', 'Body']\n",
    "data = []\n",
    "lastWeekDateTime = dt.datetime.now()\n",
    "yesterday_date = lastWeekDateTime.date()\n",
    "\n",
    "\n",
    "for message in messages:\n",
    "    if message.ReceivedTime.date() >= yesterday_date:\n",
    "        print(message.ReceivedTime.date())\n",
    "        print(message.Subject)\n",
    "        # data.append([ message.Subject, message.Body])\n",
    "        \n",
    "with open('inbox.csv', 'w', encoding='UTF8', newline='') as f:\n",
    "    writer = csv.writer(f)\n",
    "    writer.writerow(HEADER)\n",
    "    writer.writerow(data)\n",
    "    \n",
    "# message.ReceivedTime.date()\n",
    "# message.SenderName\n",
    "# message.To\n",
    "# message.Subject\n",
    "# message.Body"
   ]
  },
  {
   "cell_type": "code",
   "execution_count": 77,
   "id": "22395166",
   "metadata": {},
   "outputs": [
    {
     "name": "stdout",
     "output_type": "stream",
     "text": [
      "CONTACT FOLDER <win32com.gen_py.Microsoft Outlook 16.0 Object Library._Items instance at 0x1486842084464>\n",
      "69\n",
      "0\n"
     ]
    }
   ],
   "source": [
    "# Get E-Mail Id's from the particular distribution List\n",
    "\n",
    "import win32com.client\n",
    "\n",
    "# Distribution List Name\n",
    "DL_NAME = 'dummy_group'\n",
    "\n",
    "# Outlook\n",
    "outApp = win32com.client.gencache.EnsureDispatch(\"Outlook.Application\")\n",
    "# print(\"OUTAPP\", outApp)\n",
    "\n",
    "# Get contact folder\n",
    "contact_folder = outApp.Session.GetDefaultFolder(win32com.client.constants.olFolderContacts)\n",
    "print(\"CONTACT FOLDER\", contact_folder.Items)\n",
    "print(win32com.client.constants.olDistributionList)\n",
    "print(contact_folder.Items.Count)\n",
    "# Iterate through contacts\n",
    "for contact_item in contact_folder.Items:\n",
    "    print(\"CONTACT_ITEM\", contact_item)\n",
    "    # check if item is a distribution list\n",
    "    if contact_item.Class == win32com.client.constants.olDistributionList:\n",
    "        print(\"Enter Distribution List\")\n",
    "        # check if distribution list's name is equal to the constant\n",
    "        if contact_item.DLName == DL_NAME:\n",
    "            print(\"Distribution List Name\", contact_item.DLName)\n",
    "            # loop through distribution list members and get their email address\n",
    "            for i in range(1, contact_item.MemberCount + 1):\n",
    "                member_in_dl = contact_item.GetMember(i)\n",
    "                print('{} | {}'.format(contact_item.DLName, member_in_dl.Address))\n",
    "    else:\n",
    "        print(\"Enter else if\")\n",
    "    print(\"OK\")\n"
   ]
  },
  {
   "cell_type": "code",
   "execution_count": 35,
   "id": "2925a0d5",
   "metadata": {},
   "outputs": [
    {
     "name": "stdout",
     "output_type": "stream",
     "text": [
      "['AddressEntries', 'AddressListType', 'Application', 'CLSID', 'Class', 'GetContactsFolder', 'ID', 'Index', 'IsInitialAddressList', 'IsReadOnly', 'Name', 'Parent', 'PropertyAccessor', 'ResolutionOrder', 'Session', '_ApplyTypes_', '__class__', '__delattr__', '__dict__', '__dir__', '__doc__', '__eq__', '__format__', '__ge__', '__getattr__', '__getattribute__', '__gt__', '__hash__', '__init__', '__init_subclass__', '__iter__', '__le__', '__lt__', '__module__', '__ne__', '__new__', '__reduce__', '__reduce_ex__', '__repr__', '__setattr__', '__sizeof__', '__str__', '__subclasshook__', '__weakref__', '_get_good_object_', '_get_good_single_object_', '_oleobj_', '_prop_map_get_', '_prop_map_put_', 'coclass_clsid']\n"
     ]
    }
   ],
   "source": [
    "import win32com.client\n",
    "\n",
    "#other libraries to be used in this script \n",
    "import os \n",
    "from datetime import datetime, timedelta\n",
    "\n",
    "outlook = win32com.client.Dispatch(\"Outlook.Application\").GetNamespace(\"MAPI\")\n",
    "\n",
    "#This function gets outlook object and retuens all the members of ALL Groups\n",
    "address_lists = outlook.AddressLists\n",
    "\n",
    "#Access Exchange Distribution Lists\n",
    "dist_lists = address_lists['All Distribution Lists']\n",
    "print(dir(dist_lists))"
   ]
  },
  {
   "cell_type": "code",
   "execution_count": null,
   "id": "55f3f80c",
   "metadata": {},
   "outputs": [],
   "source": []
  }
 ],
 "metadata": {
  "kernelspec": {
   "display_name": "Python 3 (ipykernel)",
   "language": "python",
   "name": "python3"
  },
  "language_info": {
   "codemirror_mode": {
    "name": "ipython",
    "version": 3
   },
   "file_extension": ".py",
   "mimetype": "text/x-python",
   "name": "python",
   "nbconvert_exporter": "python",
   "pygments_lexer": "ipython3",
   "version": "3.10.0"
  }
 },
 "nbformat": 4,
 "nbformat_minor": 5
}
